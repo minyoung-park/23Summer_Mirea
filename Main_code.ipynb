{
 "cells": [
  {
   "cell_type": "code",
   "execution_count": 1,
   "id": "07af22ef",
   "metadata": {},
   "outputs": [],
   "source": [
    "import pandas as pd\n",
    "from collections import Counter\n",
    "from datetime import datetime, timedelta\n",
    "import os"
   ]
  },
  {
   "cell_type": "code",
   "execution_count": 2,
   "id": "d3f4ac2f",
   "metadata": {},
   "outputs": [],
   "source": [
    "df_custom=pd.read_csv('cs.csv')"
   ]
  },
  {
   "cell_type": "code",
   "execution_count": 3,
   "id": "8b5d6a8c",
   "metadata": {},
   "outputs": [],
   "source": [
    "df_news=pd.read_csv('predict_news.csv')"
   ]
  },
  {
   "cell_type": "code",
   "execution_count": 4,
   "id": "4ded8c06",
   "metadata": {},
   "outputs": [],
   "source": [
    "custom=df_custom"
   ]
  },
  {
   "cell_type": "code",
   "execution_count": 5,
   "id": "3db8f6c4",
   "metadata": {},
   "outputs": [],
   "source": [
    "news=df_news"
   ]
  },
  {
   "cell_type": "code",
   "execution_count": 6,
   "id": "4215aedb",
   "metadata": {},
   "outputs": [],
   "source": [
    "custom1=custom.iloc[:,[0,1,2]].dropna()\n",
    "custom2=custom.iloc[:,[0,1,4]].dropna()"
   ]
  },
  {
   "cell_type": "code",
   "execution_count": 7,
   "id": "676bcaed",
   "metadata": {},
   "outputs": [],
   "source": [
    "news1=news[news['sentiment']==1].iloc[:,[1,-2]]\n",
    "news2=news[news['sentiment']==2].iloc[:,[1,-2]]"
   ]
  },
  {
   "cell_type": "code",
   "execution_count": 8,
   "id": "6d45c095",
   "metadata": {},
   "outputs": [],
   "source": [
    "custom1=custom1[custom1['BUY'].isin(news1['단축코드'])]\n",
    "custom2=custom2[custom2['SELL'].isin(news2['단축코드'])]\n",
    "news1 = news1[news1['단축코드'].isin(custom1['BUY'])]\n",
    "news2 = news2[news2['단축코드'].isin(custom2['SELL'])]"
   ]
  },
  {
   "cell_type": "code",
   "execution_count": 22,
   "id": "6dafeec4",
   "metadata": {},
   "outputs": [],
   "source": [
    "custom1_train=custom1[custom1['DATE']<20230301]\n",
    "news1_train=news1[news1['DATE_TIME']<20230401]\n",
    "custom1_test=custom1[custom1['DATE']>=20230301]\n",
    "news1_test=news1[news1['DATE_TIME']>=20230401]\n",
    "custom2_train=custom2[custom2['DATE']<20230301]\n",
    "news2_train=news2[news2['DATE_TIME']<20230401]\n",
    "custom2_test=custom2[custom2['DATE']>=20230301]\n",
    "news2_test=news2[news2['DATE_TIME']>=20230401]"
   ]
  },
  {
   "cell_type": "code",
   "execution_count": 20,
   "id": "5f7e189f",
   "metadata": {},
   "outputs": [],
   "source": [
    "def convert_to_datetime(date_str):\n",
    "    return pd.to_datetime(date_str, format='%Y%m%d')"
   ]
  },
  {
   "cell_type": "code",
   "execution_count": 23,
   "id": "a949befd",
   "metadata": {},
   "outputs": [
    {
     "name": "stderr",
     "output_type": "stream",
     "text": [
      "C:\\Users\\horri\\AppData\\Local\\Temp\\ipykernel_25340\\351439433.py:1: SettingWithCopyWarning: \n",
      "A value is trying to be set on a copy of a slice from a DataFrame.\n",
      "Try using .loc[row_indexer,col_indexer] = value instead\n",
      "\n",
      "See the caveats in the documentation: https://pandas.pydata.org/pandas-docs/stable/user_guide/indexing.html#returning-a-view-versus-a-copy\n",
      "  custom1_train['DATE'] = custom1_train['DATE'].apply(convert_to_datetime)\n",
      "C:\\Users\\horri\\AppData\\Local\\Temp\\ipykernel_25340\\351439433.py:2: SettingWithCopyWarning: \n",
      "A value is trying to be set on a copy of a slice from a DataFrame.\n",
      "Try using .loc[row_indexer,col_indexer] = value instead\n",
      "\n",
      "See the caveats in the documentation: https://pandas.pydata.org/pandas-docs/stable/user_guide/indexing.html#returning-a-view-versus-a-copy\n",
      "  custom2_train['DATE'] = custom2_train['DATE'].apply(convert_to_datetime)\n",
      "C:\\Users\\horri\\AppData\\Local\\Temp\\ipykernel_25340\\351439433.py:3: SettingWithCopyWarning: \n",
      "A value is trying to be set on a copy of a slice from a DataFrame.\n",
      "Try using .loc[row_indexer,col_indexer] = value instead\n",
      "\n",
      "See the caveats in the documentation: https://pandas.pydata.org/pandas-docs/stable/user_guide/indexing.html#returning-a-view-versus-a-copy\n",
      "  custom1_test['DATE'] = custom1_test['DATE'].apply(convert_to_datetime)\n",
      "C:\\Users\\horri\\AppData\\Local\\Temp\\ipykernel_25340\\351439433.py:4: SettingWithCopyWarning: \n",
      "A value is trying to be set on a copy of a slice from a DataFrame.\n",
      "Try using .loc[row_indexer,col_indexer] = value instead\n",
      "\n",
      "See the caveats in the documentation: https://pandas.pydata.org/pandas-docs/stable/user_guide/indexing.html#returning-a-view-versus-a-copy\n",
      "  custom2_test['DATE'] = custom2_test['DATE'].apply(convert_to_datetime)\n",
      "C:\\Users\\horri\\AppData\\Local\\Temp\\ipykernel_25340\\351439433.py:5: SettingWithCopyWarning: \n",
      "A value is trying to be set on a copy of a slice from a DataFrame.\n",
      "Try using .loc[row_indexer,col_indexer] = value instead\n",
      "\n",
      "See the caveats in the documentation: https://pandas.pydata.org/pandas-docs/stable/user_guide/indexing.html#returning-a-view-versus-a-copy\n",
      "  news1_train['DATE_TIME'] = news1_train['DATE_TIME'].apply(convert_to_datetime)\n",
      "C:\\Users\\horri\\AppData\\Local\\Temp\\ipykernel_25340\\351439433.py:6: SettingWithCopyWarning: \n",
      "A value is trying to be set on a copy of a slice from a DataFrame.\n",
      "Try using .loc[row_indexer,col_indexer] = value instead\n",
      "\n",
      "See the caveats in the documentation: https://pandas.pydata.org/pandas-docs/stable/user_guide/indexing.html#returning-a-view-versus-a-copy\n",
      "  news2_train['DATE_TIME'] = news2_train['DATE_TIME'].apply(convert_to_datetime)\n",
      "C:\\Users\\horri\\AppData\\Local\\Temp\\ipykernel_25340\\351439433.py:7: SettingWithCopyWarning: \n",
      "A value is trying to be set on a copy of a slice from a DataFrame.\n",
      "Try using .loc[row_indexer,col_indexer] = value instead\n",
      "\n",
      "See the caveats in the documentation: https://pandas.pydata.org/pandas-docs/stable/user_guide/indexing.html#returning-a-view-versus-a-copy\n",
      "  news1_test['DATE_TIME'] = news1_test['DATE_TIME'].apply(convert_to_datetime)\n",
      "C:\\Users\\horri\\AppData\\Local\\Temp\\ipykernel_25340\\351439433.py:8: SettingWithCopyWarning: \n",
      "A value is trying to be set on a copy of a slice from a DataFrame.\n",
      "Try using .loc[row_indexer,col_indexer] = value instead\n",
      "\n",
      "See the caveats in the documentation: https://pandas.pydata.org/pandas-docs/stable/user_guide/indexing.html#returning-a-view-versus-a-copy\n",
      "  news2_test['DATE_TIME'] = news2_test['DATE_TIME'].apply(convert_to_datetime)\n"
     ]
    }
   ],
   "source": [
    "custom1_train['DATE'] = custom1_train['DATE'].apply(convert_to_datetime)\n",
    "custom2_train['DATE'] = custom2_train['DATE'].apply(convert_to_datetime)\n",
    "custom1_test['DATE'] = custom1_test['DATE'].apply(convert_to_datetime)\n",
    "custom2_test['DATE'] = custom2_test['DATE'].apply(convert_to_datetime)\n",
    "news1_train['DATE_TIME'] = news1_train['DATE_TIME'].apply(convert_to_datetime)\n",
    "news2_train['DATE_TIME'] = news2_train['DATE_TIME'].apply(convert_to_datetime)\n",
    "news1_test['DATE_TIME'] = news1_test['DATE_TIME'].apply(convert_to_datetime)\n",
    "news2_test['DATE_TIME'] = news2_test['DATE_TIME'].apply(convert_to_datetime)"
   ]
  },
  {
   "cell_type": "code",
   "execution_count": 24,
   "id": "4ac0a1a5",
   "metadata": {
    "scrolled": false
   },
   "outputs": [
    {
     "data": {
      "text/html": [
       "<div>\n",
       "<style scoped>\n",
       "    .dataframe tbody tr th:only-of-type {\n",
       "        vertical-align: middle;\n",
       "    }\n",
       "\n",
       "    .dataframe tbody tr th {\n",
       "        vertical-align: top;\n",
       "    }\n",
       "\n",
       "    .dataframe thead th {\n",
       "        text-align: right;\n",
       "    }\n",
       "</style>\n",
       "<table border=\"1\" class=\"dataframe\">\n",
       "  <thead>\n",
       "    <tr style=\"text-align: right;\">\n",
       "      <th></th>\n",
       "      <th>NUM</th>\n",
       "      <th>DATE</th>\n",
       "      <th>BUY</th>\n",
       "    </tr>\n",
       "  </thead>\n",
       "  <tbody>\n",
       "    <tr>\n",
       "      <th>4</th>\n",
       "      <td>2</td>\n",
       "      <td>2023-02-10</td>\n",
       "      <td>302440</td>\n",
       "    </tr>\n",
       "    <tr>\n",
       "      <th>9</th>\n",
       "      <td>3</td>\n",
       "      <td>2022-12-10</td>\n",
       "      <td>170030</td>\n",
       "    </tr>\n",
       "    <tr>\n",
       "      <th>10</th>\n",
       "      <td>3</td>\n",
       "      <td>2022-12-20</td>\n",
       "      <td>207760</td>\n",
       "    </tr>\n",
       "    <tr>\n",
       "      <th>11</th>\n",
       "      <td>3</td>\n",
       "      <td>2022-12-31</td>\n",
       "      <td>419120</td>\n",
       "    </tr>\n",
       "    <tr>\n",
       "      <th>12</th>\n",
       "      <td>3</td>\n",
       "      <td>2023-01-10</td>\n",
       "      <td>054920</td>\n",
       "    </tr>\n",
       "    <tr>\n",
       "      <th>...</th>\n",
       "      <td>...</td>\n",
       "      <td>...</td>\n",
       "      <td>...</td>\n",
       "    </tr>\n",
       "    <tr>\n",
       "      <th>7097406</th>\n",
       "      <td>803308</td>\n",
       "      <td>2022-12-10</td>\n",
       "      <td>099430</td>\n",
       "    </tr>\n",
       "    <tr>\n",
       "      <th>7097407</th>\n",
       "      <td>803308</td>\n",
       "      <td>2022-12-31</td>\n",
       "      <td>099430</td>\n",
       "    </tr>\n",
       "    <tr>\n",
       "      <th>7097408</th>\n",
       "      <td>803308</td>\n",
       "      <td>2023-01-31</td>\n",
       "      <td>099430</td>\n",
       "    </tr>\n",
       "    <tr>\n",
       "      <th>7097409</th>\n",
       "      <td>803308</td>\n",
       "      <td>2023-02-10</td>\n",
       "      <td>099430</td>\n",
       "    </tr>\n",
       "    <tr>\n",
       "      <th>7097410</th>\n",
       "      <td>803308</td>\n",
       "      <td>2023-02-20</td>\n",
       "      <td>085370</td>\n",
       "    </tr>\n",
       "  </tbody>\n",
       "</table>\n",
       "<p>3606273 rows × 3 columns</p>\n",
       "</div>"
      ],
      "text/plain": [
       "            NUM       DATE     BUY\n",
       "4             2 2023-02-10  302440\n",
       "9             3 2022-12-10  170030\n",
       "10            3 2022-12-20  207760\n",
       "11            3 2022-12-31  419120\n",
       "12            3 2023-01-10  054920\n",
       "...         ...        ...     ...\n",
       "7097406  803308 2022-12-10  099430\n",
       "7097407  803308 2022-12-31  099430\n",
       "7097408  803308 2023-01-31  099430\n",
       "7097409  803308 2023-02-10  099430\n",
       "7097410  803308 2023-02-20  085370\n",
       "\n",
       "[3606273 rows x 3 columns]"
      ]
     },
     "execution_count": 24,
     "metadata": {},
     "output_type": "execute_result"
    }
   ],
   "source": [
    "custom1_train"
   ]
  },
  {
   "cell_type": "code",
   "execution_count": 34,
   "id": "5bc578ac",
   "metadata": {},
   "outputs": [],
   "source": [
    "news1_train=news1_train.drop_duplicates()\n",
    "news2_train=news2_train.drop_duplicates()\n",
    "news1_test=news1_test.drop_duplicates()\n",
    "news2_test=news2_test.drop_duplicates()"
   ]
  },
  {
   "cell_type": "code",
   "execution_count": null,
   "id": "ffeb5692",
   "metadata": {},
   "outputs": [],
   "source": [
    "customers1 = []\n",
    "customers_in_one_month1=[]\n",
    "for index, row in news1_train.iterrows():\n",
    "    news1_date = row['DATE_TIME']\n",
    "    term = news1_date - timedelta(days=1)\n",
    "    customers_in_one_month1 = custom1_train[\n",
    "        (custom1_train['BUY'] == row['단축코드']) &\n",
    "        (custom1_train['DATE'] >= term) &\n",
    "        (custom1_train['DATE'] < news1_date)\n",
    "    ]['NUM'].tolist()\n",
    "    customers1.extend(customers_in_one_month1)"
   ]
  },
  {
   "cell_type": "code",
   "execution_count": null,
   "id": "26833881",
   "metadata": {},
   "outputs": [],
   "source": [
    "customers1"
   ]
  },
  {
   "cell_type": "code",
   "execution_count": null,
   "id": "d724d987",
   "metadata": {},
   "outputs": [],
   "source": [
    "customers2 = pd.DataFrame([])\n",
    "customers_in_one_month2=[]\n",
    "for index, row in news2_train.iterrows():\n",
    "    news2_date = row['DATE_TIME']\n",
    "    term = news2_date - timedelta(days=1)\n",
    "    customers_in_one_month2 = custom2_train[\n",
    "        (custom2_train['SELL'] == row['단축코드']) &\n",
    "        (custom2_train['DATE'] >= term) &\n",
    "        (custom2_train['DATE'] < news2_date)\n",
    "    ]['NUM'].tolist()\n",
    "    customers1.extend(customers_in_one_month1)"
   ]
  },
  {
   "cell_type": "code",
   "execution_count": null,
   "id": "813404a8",
   "metadata": {},
   "outputs": [],
   "source": [
    "customers2"
   ]
  },
  {
   "cell_type": "code",
   "execution_count": null,
   "id": "6b25f972",
   "metadata": {},
   "outputs": [],
   "source": [
    "customers_buy=pd.DataFrame(customers1['NUM'].value_counts(sort=False))"
   ]
  },
  {
   "cell_type": "code",
   "execution_count": null,
   "id": "162ad016",
   "metadata": {},
   "outputs": [],
   "source": [
    "customers_sell=pd.DataFrame(customers2['NUM'].value_counts(sort=False))"
   ]
  },
  {
   "cell_type": "code",
   "execution_count": null,
   "id": "af4ff9e2",
   "metadata": {},
   "outputs": [],
   "source": [
    "os.chdir('C:/Users/horri/Desktop/대외활동/비어플/미래에셋 공모전')"
   ]
  },
  {
   "cell_type": "code",
   "execution_count": null,
   "id": "e11f16a4",
   "metadata": {},
   "outputs": [],
   "source": [
    "customers_buy.to_csv('buy_1days_only.csv',index=False)"
   ]
  },
  {
   "cell_type": "code",
   "execution_count": null,
   "id": "69b4c059",
   "metadata": {},
   "outputs": [],
   "source": [
    "customers_sell.to_csv('sell_1days_only.csv', index=False)"
   ]
  },
  {
   "cell_type": "code",
   "execution_count": null,
   "id": "33dd92f4",
   "metadata": {},
   "outputs": [],
   "source": []
  },
  {
   "cell_type": "code",
   "execution_count": null,
   "id": "0f1cd350",
   "metadata": {},
   "outputs": [],
   "source": []
  }
 ],
 "metadata": {
  "kernelspec": {
   "display_name": "mirae2",
   "language": "python",
   "name": "mirae2"
  },
  "language_info": {
   "codemirror_mode": {
    "name": "ipython",
    "version": 3
   },
   "file_extension": ".py",
   "mimetype": "text/x-python",
   "name": "python",
   "nbconvert_exporter": "python",
   "pygments_lexer": "ipython3",
   "version": "3.10.12"
  }
 },
 "nbformat": 4,
 "nbformat_minor": 5
}
